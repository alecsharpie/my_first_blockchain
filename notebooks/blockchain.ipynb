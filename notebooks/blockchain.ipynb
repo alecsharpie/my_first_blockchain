{
 "cells": [
  {
   "cell_type": "markdown",
   "id": "a86e06d6",
   "metadata": {},
   "source": [
    "# Block"
   ]
  },
  {
   "cell_type": "code",
   "execution_count": 1,
   "id": "df7da451",
   "metadata": {},
   "outputs": [
    {
     "name": "stdout",
     "output_type": "stream",
     "text": [
      "Collecting hashlib\n",
      "  Downloading hashlib-20081119.zip (42 kB)\n",
      "     |████████████████████████████████| 42 kB 1.0 MB/s            \n",
      "\u001b[?25h  Preparing metadata (setup.py) ... \u001b[?25lerror\n",
      "\u001b[31m  ERROR: Command errored out with exit status 1:\n",
      "   command: /Users/alecsharp/.pyenv/versions/3.8.6/envs/lewagon/bin/python3.8 -c 'import io, os, sys, setuptools, tokenize; sys.argv[0] = '\"'\"'/private/var/folders/_n/rrz6mzy13l71h2mg878ykrv80000gn/T/pip-install-nies_k1w/hashlib_3ecb5cddb1934919abe8940151b92379/setup.py'\"'\"'; __file__='\"'\"'/private/var/folders/_n/rrz6mzy13l71h2mg878ykrv80000gn/T/pip-install-nies_k1w/hashlib_3ecb5cddb1934919abe8940151b92379/setup.py'\"'\"';f = getattr(tokenize, '\"'\"'open'\"'\"', open)(__file__) if os.path.exists(__file__) else io.StringIO('\"'\"'from setuptools import setup; setup()'\"'\"');code = f.read().replace('\"'\"'\\r\\n'\"'\"', '\"'\"'\\n'\"'\"');f.close();exec(compile(code, __file__, '\"'\"'exec'\"'\"'))' egg_info --egg-base /private/var/folders/_n/rrz6mzy13l71h2mg878ykrv80000gn/T/pip-pip-egg-info-aq9lt6dp\n",
      "       cwd: /private/var/folders/_n/rrz6mzy13l71h2mg878ykrv80000gn/T/pip-install-nies_k1w/hashlib_3ecb5cddb1934919abe8940151b92379/\n",
      "  Complete output (6 lines):\n",
      "  Traceback (most recent call last):\n",
      "    File \"<string>\", line 1, in <module>\n",
      "    File \"/private/var/folders/_n/rrz6mzy13l71h2mg878ykrv80000gn/T/pip-install-nies_k1w/hashlib_3ecb5cddb1934919abe8940151b92379/setup.py\", line 68\n",
      "      print \"unknown OS, please update setup.py\"\n",
      "            ^\n",
      "  SyntaxError: Missing parentheses in call to 'print'. Did you mean print(\"unknown OS, please update setup.py\")?\n",
      "  ----------------------------------------\u001b[0m\n",
      "\u001b[33mWARNING: Discarding https://files.pythonhosted.org/packages/74/bb/9003d081345e9f0451884146e9ea2cff6e4cc4deac9ffd4a9ee98b318a49/hashlib-20081119.zip#sha256=419de2fd10ae71ed9c6adcb55903f116abd1d8acc8c814dfd5f839b4d5013e38 (from https://pypi.org/simple/hashlib/). Command errored out with exit status 1: python setup.py egg_info Check the logs for full command output.\u001b[0m\n",
      "\u001b[31mERROR: Could not find a version that satisfies the requirement hashlib (from versions: 20081119)\u001b[0m\n",
      "\u001b[31mERROR: No matching distribution found for hashlib\u001b[0m\n",
      "\u001b[?25h"
     ]
    }
   ],
   "source": [
    "!pip install hashlib"
   ]
  },
  {
   "cell_type": "code",
   "execution_count": 26,
   "id": "78aa6271",
   "metadata": {},
   "outputs": [
    {
     "data": {
      "text/plain": [
       "bytes"
      ]
     },
     "execution_count": 26,
     "metadata": {},
     "output_type": "execute_result"
    }
   ],
   "source": [
    "import hashlib\n",
    "m = hashlib.sha256()\n",
    "m.update(b\"Nobody inspects\")\n",
    "m.update(b\" the spren\")\n",
    "type(m.digest())"
   ]
  },
  {
   "cell_type": "code",
   "execution_count": 27,
   "id": "1807a283",
   "metadata": {},
   "outputs": [
    {
     "data": {
      "text/plain": [
       "str"
      ]
     },
     "execution_count": 27,
     "metadata": {},
     "output_type": "execute_result"
    }
   ],
   "source": [
    "type(hashlib.sha256(b\"Nobody inspects the spammish repetition\").hexdigest())"
   ]
  },
  {
   "cell_type": "code",
   "execution_count": 6,
   "id": "85b1cbd3",
   "metadata": {},
   "outputs": [
    {
     "data": {
      "text/plain": [
       "<sha256 HASH object @ 0x10accfab0>"
      ]
     },
     "execution_count": 6,
     "metadata": {},
     "output_type": "execute_result"
    }
   ],
   "source": [
    "m"
   ]
  },
  {
   "cell_type": "code",
   "execution_count": 7,
   "id": "0d2928aa",
   "metadata": {},
   "outputs": [
    {
     "data": {
      "text/plain": [
       "64"
      ]
     },
     "execution_count": 7,
     "metadata": {},
     "output_type": "execute_result"
    }
   ],
   "source": [
    "m.digest_size\n",
    "\n",
    "m.block_size"
   ]
  },
  {
   "cell_type": "code",
   "execution_count": 30,
   "id": "5b0c0f84",
   "metadata": {},
   "outputs": [
    {
     "data": {
      "text/plain": [
       "False"
      ]
     },
     "execution_count": 30,
     "metadata": {},
     "output_type": "execute_result"
    }
   ],
   "source": [
    "not 's'.startswith('s')"
   ]
  },
  {
   "cell_type": "code",
   "execution_count": 28,
   "id": "1cfb098a",
   "metadata": {},
   "outputs": [
    {
     "ename": "SyntaxError",
     "evalue": "invalid syntax (669554382.py, line 21)",
     "output_type": "error",
     "traceback": [
      "\u001b[0;36m  File \u001b[0;32m\"/var/folders/_n/rrz6mzy13l71h2mg878ykrv80000gn/T/ipykernel_46254/669554382.py\"\u001b[0;36m, line \u001b[0;32m21\u001b[0m\n\u001b[0;31m    while self.hash.startswith('0' )\u001b[0m\n\u001b[0m                                    ^\u001b[0m\n\u001b[0;31mSyntaxError\u001b[0m\u001b[0;31m:\u001b[0m invalid syntax\n"
     ]
    }
   ],
   "source": [
    "from datetime import datetime\n",
    "from hashlib import sha256\n",
    "import json\n",
    "\n",
    "class Block:\n",
    "    \n",
    "    \n",
    "    def __init__(self, prev_hash, data):\n",
    "        self.data = data\n",
    "        self.hash = self.calculate_hash()\n",
    "        self.timestamp = datetime.now()\n",
    "        self.proof_of_work = 0\n",
    "        \n",
    "    def calculate_hash(self):\n",
    "         return sha256(self.previous_hash +\\\n",
    "                       json.dumps(self.data) +\\\n",
    "                       self.timestamp +\\\n",
    "                       self.proof_of_work).hexdigest()\n",
    "        \n",
    "    def mine(self, difficulty):\n",
    "        while not self.hash.startswith('0'*difficulty):\n",
    "            proof_of_work =+\n",
    "        \n",
    "        "
   ]
  },
  {
   "cell_type": "code",
   "execution_count": null,
   "id": "c95b53c5",
   "metadata": {},
   "outputs": [],
   "source": []
  },
  {
   "cell_type": "markdown",
   "id": "ccaca02d",
   "metadata": {},
   "source": [
    "# Blockchain"
   ]
  },
  {
   "cell_type": "code",
   "execution_count": null,
   "id": "9e438644",
   "metadata": {},
   "outputs": [],
   "source": []
  }
 ],
 "metadata": {
  "kernelspec": {
   "display_name": "Python 3 (ipykernel)",
   "language": "python",
   "name": "python3"
  },
  "language_info": {
   "codemirror_mode": {
    "name": "ipython",
    "version": 3
   },
   "file_extension": ".py",
   "mimetype": "text/x-python",
   "name": "python",
   "nbconvert_exporter": "python",
   "pygments_lexer": "ipython3",
   "version": "3.8.6"
  }
 },
 "nbformat": 4,
 "nbformat_minor": 5
}
