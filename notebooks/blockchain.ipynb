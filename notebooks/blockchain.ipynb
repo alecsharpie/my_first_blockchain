{
 "cells": [
  {
   "cell_type": "markdown",
   "id": "a86e06d6",
   "metadata": {},
   "source": [
    "# Block"
   ]
  },
  {
   "cell_type": "code",
   "execution_count": 83,
   "id": "1cfb098a",
   "metadata": {},
   "outputs": [],
   "source": [
    "from datetime import datetime\n",
    "from hashlib import sha256\n",
    "import json\n",
    "\n",
    "class Block:\n",
    "    \"\"\" A single block on the blockchain\"\"\"\n",
    "    \n",
    "    def __init__(self, prev_hash, data):\n",
    "        \"\"\"init block with data, using previous blocks hash\"\"\"\n",
    "        self.data = data\n",
    "        self.timestamp = datetime.now().strftime(\"%Y-%m-%d %H:%M:%S\")\n",
    "        self.proof_of_work = 0\n",
    "        self.prev_hash = prev_hash\n",
    "        self.hash = self.calculate_hash()\n",
    "        \n",
    "    def calculate_hash(self):\n",
    "        \"\"\"create a string by combining attributes and use sha256 to create a hash\"\"\"\n",
    "        str_to_hash = self.prev_hash + json.dumps(self.data) + self.timestamp + str(self.proof_of_work)\n",
    "        \n",
    "        return sha256(str_to_hash.encode('ascii')).hexdigest()\n",
    "        \n",
    "        \n",
    "    def mine(self, difficulty):\n",
    "        \"\"\"mine or solve a block and add it to the block chain, brute force until a hash starts with 0\"\"\"\n",
    "        while not self.hash.startswith('0'*difficulty):\n",
    "            self.proof_of_work += 1\n",
    "            self.hash = self.calculate_hash()\n",
    "        \n",
    "        "
   ]
  },
  {
   "cell_type": "markdown",
   "id": "ccaca02d",
   "metadata": {},
   "source": [
    "# Blockchain"
   ]
  },
  {
   "cell_type": "code",
   "execution_count": 84,
   "id": "9e438644",
   "metadata": {},
   "outputs": [],
   "source": [
    "# import Block\n",
    "\n",
    "class BlockChain:\n",
    "    \"\"\"create a class to house information about the block chain, and the chain it's self\"\"\"\n",
    "    \n",
    "    def __init__(self):\n",
    "        \"\"\"init with genesis block\"\"\"\n",
    "        self.chain = [Block('0', {'is_genesis':True})]\n",
    "        self.info = {'hash': 'sha256'}\n",
    "        \n",
    "        \n",
    "    def add_block(self, data):\n",
    "        \"\"\"add a block using the last blocks hash, mine it for proof of work, and add it to the  chain\"\"\"\n",
    "        last_block = self.chain[-1]\n",
    "        \n",
    "        new_block = Block(last_block.hash, data)\n",
    "        \n",
    "        new_block.mine(1)\n",
    "        \n",
    "        self.chain.append(new_block)\n",
    "        \n",
    "        \n",
    "    def is_valid(self):\n",
    "        \"\"\"check if the blockchain is valid\"\"\"\n",
    "        for idx in range(1, len(self.chain)):\n",
    "            \n",
    "            current = self.chain[idx]\n",
    "            prev = self.chain[(idx-1)]\n",
    "            \n",
    "            if current.hash != current.calculate_hash() or prev.hash != current.prev_hash:\n",
    "                return False\n",
    "            \n",
    "            return True\n",
    "                "
   ]
  },
  {
   "cell_type": "markdown",
   "id": "781d25a2",
   "metadata": {},
   "source": [
    "### test block"
   ]
  },
  {
   "cell_type": "code",
   "execution_count": 85,
   "id": "e7e712f0",
   "metadata": {
    "scrolled": true
   },
   "outputs": [
    {
     "data": {
      "text/plain": [
       "{'data': {},\n",
       " 'timestamp': '2022-01-14 01:51:32',\n",
       " 'proof_of_work': 0,\n",
       " 'prev_hash': '0',\n",
       " 'hash': '64724496c596cd0862c964eb48e13f73f5b293fb85a3d0cc750c3f8f16cdbd69'}"
      ]
     },
     "execution_count": 85,
     "metadata": {},
     "output_type": "execute_result"
    }
   ],
   "source": [
    "Block('0', {}).__dict__"
   ]
  },
  {
   "cell_type": "markdown",
   "id": "bbc542a2",
   "metadata": {},
   "source": [
    "### test chain "
   ]
  },
  {
   "cell_type": "code",
   "execution_count": 86,
   "id": "10ffe4ac",
   "metadata": {},
   "outputs": [],
   "source": [
    "btc = BlockChain()"
   ]
  },
  {
   "cell_type": "code",
   "execution_count": 87,
   "id": "1c31dd38",
   "metadata": {},
   "outputs": [
    {
     "data": {
      "text/plain": [
       "{'chain': [<__main__.Block at 0x1082b38e0>], 'info': {'hash': 'sha256'}}"
      ]
     },
     "execution_count": 87,
     "metadata": {},
     "output_type": "execute_result"
    }
   ],
   "source": [
    "btc.__dict__"
   ]
  },
  {
   "cell_type": "code",
   "execution_count": 88,
   "id": "e9db71ea",
   "metadata": {},
   "outputs": [],
   "source": [
    "btc.add_block({'from': 'alec', 'to' : 'chan', 'amount': 32})"
   ]
  },
  {
   "cell_type": "code",
   "execution_count": 89,
   "id": "e2b16394",
   "metadata": {},
   "outputs": [
    {
     "data": {
      "text/plain": [
       "[{'data': {'is_genesis': True},\n",
       "  'timestamp': '2022-01-14 01:51:33',\n",
       "  'proof_of_work': 0,\n",
       "  'prev_hash': '0',\n",
       "  'hash': '73ee7698b96e1c6b786c53832c3b73f0d1309d086c9638e848ebe25193b87957'},\n",
       " {'data': {'from': 'alec', 'to': 'chan', 'amount': 32},\n",
       "  'timestamp': '2022-01-14 01:51:33',\n",
       "  'proof_of_work': 3,\n",
       "  'prev_hash': '73ee7698b96e1c6b786c53832c3b73f0d1309d086c9638e848ebe25193b87957',\n",
       "  'hash': '0e5d20be7d8d09904fc5281f5938a72e5e7635cbf6783642658e8577b4350258'}]"
      ]
     },
     "execution_count": 89,
     "metadata": {},
     "output_type": "execute_result"
    }
   ],
   "source": [
    "[block.__dict__ for block in btc.chain]"
   ]
  },
  {
   "cell_type": "code",
   "execution_count": 90,
   "id": "37fc5d30",
   "metadata": {},
   "outputs": [
    {
     "data": {
      "text/plain": [
       "True"
      ]
     },
     "execution_count": 90,
     "metadata": {},
     "output_type": "execute_result"
    }
   ],
   "source": [
    "btc.is_valid()"
   ]
  },
  {
   "cell_type": "code",
   "execution_count": null,
   "id": "cf4db1b3",
   "metadata": {},
   "outputs": [],
   "source": []
  }
 ],
 "metadata": {
  "kernelspec": {
   "display_name": "Python 3 (ipykernel)",
   "language": "python",
   "name": "python3"
  },
  "language_info": {
   "codemirror_mode": {
    "name": "ipython",
    "version": 3
   },
   "file_extension": ".py",
   "mimetype": "text/x-python",
   "name": "python",
   "nbconvert_exporter": "python",
   "pygments_lexer": "ipython3",
   "version": "3.8.6"
  }
 },
 "nbformat": 4,
 "nbformat_minor": 5
}
