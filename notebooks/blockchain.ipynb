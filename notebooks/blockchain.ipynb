{
 "cells": [
  {
   "cell_type": "markdown",
   "id": "a86e06d6",
   "metadata": {},
   "source": [
    "# Block"
   ]
  },
  {
   "cell_type": "code",
   "execution_count": 7,
   "id": "78aa6271",
   "metadata": {},
   "outputs": [
    {
     "name": "stdout",
     "output_type": "stream",
     "text": [
      "<class 'bytes'>\n",
      "<class 'str'>\n"
     ]
    }
   ],
   "source": [
    "import hashlib\n",
    "\n",
    "m = hashlib.sha256('Test'.encode('ascii'))\n",
    "\n",
    "print(type(m.digest()))\n",
    "print(type(m.hexdigest()))"
   ]
  },
  {
   "cell_type": "code",
   "execution_count": 24,
   "id": "9cf5f6f3",
   "metadata": {},
   "outputs": [
    {
     "data": {
      "text/plain": [
       "'2022-01-14 00:34:23'"
      ]
     },
     "execution_count": 24,
     "metadata": {},
     "output_type": "execute_result"
    }
   ],
   "source": [
    "datetime.now().strftime(\"%Y-%m-%d %H:%M:%S\")"
   ]
  },
  {
   "cell_type": "code",
   "execution_count": 35,
   "id": "1cfb098a",
   "metadata": {},
   "outputs": [],
   "source": [
    "from datetime import datetime\n",
    "from hashlib import sha256\n",
    "import json\n",
    "\n",
    "class Block:\n",
    "    \n",
    "    \n",
    "    def __init__(self, prev_hash, data):\n",
    "        \n",
    "        self.data = data\n",
    "        self.timestamp = datetime.now().strftime(\"%Y-%m-%d %H:%M:%S\")\n",
    "        self.proof_of_work = 0\n",
    "        self.prev_hash = prev_hash\n",
    "        self.hash = self.calculate_hash()\n",
    "        \n",
    "    def calculate_hash(self):\n",
    "        \n",
    "        str_to_hash = self.prev_hash + json.dumps(self.data) + self.timestamp + str(self.proof_of_work)\n",
    "        \n",
    "        return sha256(str_to_hash.encode('ascii')).hexdigest()\n",
    "        \n",
    "        \n",
    "    def mine(self, difficulty):\n",
    "        \n",
    "        while not self.hash.startswith('0'*difficulty):\n",
    "            self.proof_of_work += 1\n",
    "            self.hash = self.calculate_hash()\n",
    "        \n",
    "        "
   ]
  },
  {
   "cell_type": "code",
   "execution_count": 36,
   "id": "a85106d8",
   "metadata": {},
   "outputs": [],
   "source": [
    "block1 = Block('0', {'key':'value'})\n",
    "\n",
    "block1.mine(1)"
   ]
  },
  {
   "cell_type": "code",
   "execution_count": 41,
   "id": "587ecd4a",
   "metadata": {},
   "outputs": [
    {
     "data": {
      "text/plain": [
       "{'data': {'key': 'value'},\n",
       " 'timestamp': '2022-01-14 00:36:43',\n",
       " 'proof_of_work': 17,\n",
       " 'prev_hash': '0',\n",
       " 'hash': '0cc15bb9a40489fa709ac9f46223c8172f21dd6c3b734b14d92f3b8ee3b7ad54'}"
      ]
     },
     "execution_count": 41,
     "metadata": {},
     "output_type": "execute_result"
    }
   ],
   "source": [
    "block1.__dict__"
   ]
  },
  {
   "cell_type": "markdown",
   "id": "ccaca02d",
   "metadata": {},
   "source": [
    "# Blockchain"
   ]
  },
  {
   "cell_type": "code",
   "execution_count": 57,
   "id": "9e438644",
   "metadata": {},
   "outputs": [],
   "source": [
    "# import Block\n",
    "\n",
    "class BlockChain:\n",
    "    \n",
    "    def __init__(self):\n",
    "        \n",
    "        self.chain = [Block('0', {'is_genesis':True})]\n",
    "        self.info = {'hash': 'sha256'}\n",
    "        \n",
    "        \n",
    "        \n",
    "    def add_block(self, data):\n",
    "        \n",
    "        last_block = self.chain[-1]\n",
    "        \n",
    "        new_block = Block(last_block.hash, data)\n",
    "        \n",
    "        new_block.mine(1)\n",
    "        \n",
    "        self.chain.append(new_block)\n",
    "        \n",
    "        \n",
    "        \n",
    "        \n",
    "        \n",
    "        \n",
    "    \n",
    "        \n",
    "        "
   ]
  },
  {
   "cell_type": "code",
   "execution_count": 58,
   "id": "164011f0",
   "metadata": {},
   "outputs": [],
   "source": [
    "btc = BlockChain()"
   ]
  },
  {
   "cell_type": "code",
   "execution_count": 59,
   "id": "0cfa9538",
   "metadata": {},
   "outputs": [
    {
     "data": {
      "text/plain": [
       "{'chain': [<__main__.Block at 0x108233400>]}"
      ]
     },
     "execution_count": 59,
     "metadata": {},
     "output_type": "execute_result"
    }
   ],
   "source": [
    "btc.__dict__"
   ]
  },
  {
   "cell_type": "code",
   "execution_count": 69,
   "id": "5965c073",
   "metadata": {},
   "outputs": [],
   "source": [
    "btc.add_block({'block': 2})"
   ]
  },
  {
   "cell_type": "code",
   "execution_count": 71,
   "id": "49448bdd",
   "metadata": {},
   "outputs": [
    {
     "data": {
      "text/plain": [
       "[{'data': {'is_genesis': True},\n",
       "  'timestamp': '2022-01-14 01:06:15',\n",
       "  'proof_of_work': 0,\n",
       "  'prev_hash': '0',\n",
       "  'hash': 'f6184ec7db54ab3e789235d1dcf7ee3f3f978284aa2db3b158aebfd29800437a'},\n",
       " {'data': {'block': 2},\n",
       "  'timestamp': '2022-01-14 01:06:16',\n",
       "  'proof_of_work': 6,\n",
       "  'prev_hash': 'f6184ec7db54ab3e789235d1dcf7ee3f3f978284aa2db3b158aebfd29800437a',\n",
       "  'hash': '04fc234cf337d4230ae5092327a95b97ff6b30df0544198b24c869dc593b388a'},\n",
       " {'data': {'block': 2},\n",
       "  'timestamp': '2022-01-14 01:07:22',\n",
       "  'proof_of_work': 1,\n",
       "  'prev_hash': '04fc234cf337d4230ae5092327a95b97ff6b30df0544198b24c869dc593b388a',\n",
       "  'hash': '0fa45d8dad2bb87f858b483162f9544fe07f0fad24fce235162a1c68f67dc6d8'},\n",
       " {'data': {'block': 2},\n",
       "  'timestamp': '2022-01-14 01:07:24',\n",
       "  'proof_of_work': 19,\n",
       "  'prev_hash': '0fa45d8dad2bb87f858b483162f9544fe07f0fad24fce235162a1c68f67dc6d8',\n",
       "  'hash': '00f2889124b467bfa097f15825f99d5536088891e235836f0a1d83b5a94db304'},\n",
       " {'data': {'block': 2},\n",
       "  'timestamp': '2022-01-14 01:07:30',\n",
       "  'proof_of_work': 3,\n",
       "  'prev_hash': '00f2889124b467bfa097f15825f99d5536088891e235836f0a1d83b5a94db304',\n",
       "  'hash': '0aca4aaa89f38b741bc06edc5703b3de9353cb58fda2e6ecdda119d4b39ec03e'},\n",
       " {'data': {'block': 2},\n",
       "  'timestamp': '2022-01-14 01:07:31',\n",
       "  'proof_of_work': 6,\n",
       "  'prev_hash': '0aca4aaa89f38b741bc06edc5703b3de9353cb58fda2e6ecdda119d4b39ec03e',\n",
       "  'hash': '0fadbe6afc97da5182791245ffc6122fbd1542313c2c5f44a4399c54a063d176'}]"
      ]
     },
     "execution_count": 71,
     "metadata": {},
     "output_type": "execute_result"
    }
   ],
   "source": [
    "[block.__dict__ for block in btc.chain]"
   ]
  },
  {
   "cell_type": "code",
   "execution_count": null,
   "id": "fe45c36e",
   "metadata": {},
   "outputs": [],
   "source": []
  }
 ],
 "metadata": {
  "kernelspec": {
   "display_name": "Python 3 (ipykernel)",
   "language": "python",
   "name": "python3"
  },
  "language_info": {
   "codemirror_mode": {
    "name": "ipython",
    "version": 3
   },
   "file_extension": ".py",
   "mimetype": "text/x-python",
   "name": "python",
   "nbconvert_exporter": "python",
   "pygments_lexer": "ipython3",
   "version": "3.8.6"
  }
 },
 "nbformat": 4,
 "nbformat_minor": 5
}
