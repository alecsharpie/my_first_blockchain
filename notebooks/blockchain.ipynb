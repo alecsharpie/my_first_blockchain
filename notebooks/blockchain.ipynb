{
 "cells": [
  {
   "cell_type": "markdown",
   "id": "a86e06d6",
   "metadata": {},
   "source": [
    "# Block"
   ]
  },
  {
   "cell_type": "code",
   "execution_count": 7,
   "id": "78aa6271",
   "metadata": {},
   "outputs": [
    {
     "name": "stdout",
     "output_type": "stream",
     "text": [
      "<class 'bytes'>\n",
      "<class 'str'>\n"
     ]
    }
   ],
   "source": [
    "import hashlib\n",
    "\n",
    "m = hashlib.sha256('Test'.encode('ascii'))\n",
    "\n",
    "print(type(m.digest()))\n",
    "print(type(m.hexdigest()))"
   ]
  },
  {
   "cell_type": "code",
   "execution_count": 24,
   "id": "baada65d",
   "metadata": {},
   "outputs": [
    {
     "data": {
      "text/plain": [
       "'2022-01-14 00:34:23'"
      ]
     },
     "execution_count": 24,
     "metadata": {},
     "output_type": "execute_result"
    }
   ],
   "source": [
    "datetime.now().strftime(\"%Y-%m-%d %H:%M:%S\")"
   ]
  },
  {
   "cell_type": "code",
   "execution_count": 35,
   "id": "1cfb098a",
   "metadata": {},
   "outputs": [],
   "source": [
    "from datetime import datetime\n",
    "from hashlib import sha256\n",
    "import json\n",
    "\n",
    "class Block:\n",
    "    \n",
    "    \n",
    "    def __init__(self, prev_hash, data):\n",
    "        \n",
    "        self.data = data\n",
    "        self.timestamp = datetime.now().strftime(\"%Y-%m-%d %H:%M:%S\")\n",
    "        self.proof_of_work = 0\n",
    "        self.prev_hash = prev_hash\n",
    "        self.hash = self.calculate_hash()\n",
    "        \n",
    "    def calculate_hash(self):\n",
    "        \n",
    "        str_to_hash = self.prev_hash + json.dumps(self.data) + self.timestamp + str(self.proof_of_work)\n",
    "        \n",
    "        return sha256(str_to_hash.encode('ascii')).hexdigest()\n",
    "        \n",
    "        \n",
    "    def mine(self, difficulty):\n",
    "        \n",
    "        while not self.hash.startswith('0'*difficulty):\n",
    "            self.proof_of_work += 1\n",
    "            self.hash = self.calculate_hash()\n",
    "        \n",
    "        "
   ]
  },
  {
   "cell_type": "code",
   "execution_count": 36,
   "id": "b6b6ef63",
   "metadata": {},
   "outputs": [],
   "source": [
    "block1 = Block('0', {'key':'value'})\n",
    "\n",
    "block1.mine(1)"
   ]
  },
  {
   "cell_type": "code",
   "execution_count": 41,
   "id": "5dcdf765",
   "metadata": {},
   "outputs": [
    {
     "data": {
      "text/plain": [
       "{'data': {'key': 'value'},\n",
       " 'timestamp': '2022-01-14 00:36:43',\n",
       " 'proof_of_work': 17,\n",
       " 'prev_hash': '0',\n",
       " 'hash': '0cc15bb9a40489fa709ac9f46223c8172f21dd6c3b734b14d92f3b8ee3b7ad54'}"
      ]
     },
     "execution_count": 41,
     "metadata": {},
     "output_type": "execute_result"
    }
   ],
   "source": [
    "block1.__dict__"
   ]
  },
  {
   "cell_type": "markdown",
   "id": "ccaca02d",
   "metadata": {},
   "source": [
    "# Blockchain"
   ]
  },
  {
   "cell_type": "code",
   "execution_count": 72,
   "id": "9e438644",
   "metadata": {},
   "outputs": [],
   "source": [
    "# import Block\n",
    "\n",
    "class BlockChain:\n",
    "    \n",
    "    def __init__(self):\n",
    "        \n",
    "        self.chain = [Block('0', {'is_genesis':True})]\n",
    "        self.info = {'hash': 'sha256'}\n",
    "        \n",
    "        \n",
    "    def add_block(self, data):\n",
    "        \n",
    "        last_block = self.chain[-1]\n",
    "        \n",
    "        new_block = Block(last_block.hash, data)\n",
    "        \n",
    "        new_block.mine(1)\n",
    "        \n",
    "        self.chain.append(new_block)\n",
    "        \n",
    "        \n",
    "    def is_valid(self):\n",
    "        \n",
    "        for idx in range(1, len(self.chain)):\n",
    "            \n",
    "            current = self.chain[idx]\n",
    "            prev = self.chain[(idx-1)]\n",
    "            \n",
    "            if current.hash != current.calculate_hash() or prev.hash != current.prev_hash:\n",
    "                return False\n",
    "            \n",
    "            return True\n",
    "                \n",
    "            \n",
    "            \n",
    "            \n",
    "        \n",
    "        \n",
    "        \n",
    "        \n",
    "        \n",
    "        \n",
    "    \n",
    "        \n",
    "        "
   ]
  },
  {
   "cell_type": "code",
   "execution_count": 73,
   "id": "8ff3b243",
   "metadata": {},
   "outputs": [],
   "source": [
    "btc = BlockChain()"
   ]
  },
  {
   "cell_type": "code",
   "execution_count": 74,
   "id": "d8eea2cf",
   "metadata": {},
   "outputs": [
    {
     "data": {
      "text/plain": [
       "{'chain': [<__main__.Block at 0x1082b38b0>], 'info': {'hash': 'sha256'}}"
      ]
     },
     "execution_count": 74,
     "metadata": {},
     "output_type": "execute_result"
    }
   ],
   "source": [
    "btc.__dict__"
   ]
  },
  {
   "cell_type": "code",
   "execution_count": 75,
   "id": "b84c72e2",
   "metadata": {},
   "outputs": [],
   "source": [
    "btc.add_block({'block': 2})"
   ]
  },
  {
   "cell_type": "code",
   "execution_count": 76,
   "id": "0480241c",
   "metadata": {},
   "outputs": [
    {
     "data": {
      "text/plain": [
       "[{'data': {'is_genesis': True},\n",
       "  'timestamp': '2022-01-14 01:18:30',\n",
       "  'proof_of_work': 0,\n",
       "  'prev_hash': '0',\n",
       "  'hash': '251978e13c5c3b914e8386f9cc798bb767f4519c948e9b2cd847191ba1149627'},\n",
       " {'data': {'block': 2},\n",
       "  'timestamp': '2022-01-14 01:18:31',\n",
       "  'proof_of_work': 28,\n",
       "  'prev_hash': '251978e13c5c3b914e8386f9cc798bb767f4519c948e9b2cd847191ba1149627',\n",
       "  'hash': '06a7e1e3e16b150776164863f3e9d51cb45e5636d579aa212872dfee92a6c8c7'}]"
      ]
     },
     "execution_count": 76,
     "metadata": {},
     "output_type": "execute_result"
    }
   ],
   "source": [
    "[block.__dict__ for block in btc.chain]"
   ]
  },
  {
   "cell_type": "code",
   "execution_count": null,
   "id": "9dea50cf",
   "metadata": {},
   "outputs": [],
   "source": [
    "btc.chain"
   ]
  },
  {
   "cell_type": "code",
   "execution_count": 77,
   "id": "401c17da",
   "metadata": {},
   "outputs": [
    {
     "data": {
      "text/plain": [
       "True"
      ]
     },
     "execution_count": 77,
     "metadata": {},
     "output_type": "execute_result"
    }
   ],
   "source": [
    "btc.is_valid()"
   ]
  },
  {
   "cell_type": "code",
   "execution_count": null,
   "id": "806ff83a",
   "metadata": {},
   "outputs": [],
   "source": []
  },
  {
   "cell_type": "code",
   "execution_count": null,
   "id": "575f9ccb",
   "metadata": {},
   "outputs": [],
   "source": []
  }
 ],
 "metadata": {
  "kernelspec": {
   "display_name": "Python 3 (ipykernel)",
   "language": "python",
   "name": "python3"
  },
  "language_info": {
   "codemirror_mode": {
    "name": "ipython",
    "version": 3
   },
   "file_extension": ".py",
   "mimetype": "text/x-python",
   "name": "python",
   "nbconvert_exporter": "python",
   "pygments_lexer": "ipython3",
   "version": "3.8.6"
  }
 },
 "nbformat": 4,
 "nbformat_minor": 5
}
