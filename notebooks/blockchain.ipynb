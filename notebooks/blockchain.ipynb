{
 "cells": [
  {
   "cell_type": "markdown",
   "id": "a86e06d6",
   "metadata": {},
   "source": [
    "# Block"
   ]
  },
  {
   "cell_type": "code",
   "execution_count": 7,
   "id": "78aa6271",
   "metadata": {},
   "outputs": [
    {
     "name": "stdout",
     "output_type": "stream",
     "text": [
      "<class 'bytes'>\n",
      "<class 'str'>\n"
     ]
    }
   ],
   "source": [
    "import hashlib\n",
    "\n",
    "m = hashlib.sha256('Test'.encode('ascii'))\n",
    "\n",
    "print(type(m.digest()))\n",
    "print(type(m.hexdigest()))"
   ]
  },
  {
   "cell_type": "code",
   "execution_count": 24,
   "id": "0c4dfb7f",
   "metadata": {},
   "outputs": [
    {
     "data": {
      "text/plain": [
       "'2022-01-14 00:34:23'"
      ]
     },
     "execution_count": 24,
     "metadata": {},
     "output_type": "execute_result"
    }
   ],
   "source": [
    "datetime.now().strftime(\"%Y-%m-%d %H:%M:%S\")"
   ]
  },
  {
   "cell_type": "code",
   "execution_count": 29,
   "id": "1cfb098a",
   "metadata": {},
   "outputs": [],
   "source": [
    "from datetime import datetime\n",
    "from hashlib import sha256\n",
    "import json\n",
    "\n",
    "class Block:\n",
    "    \n",
    "    \n",
    "    def __init__(self, prev_hash, data):\n",
    "        \n",
    "        self.data = data\n",
    "        self.timestamp = datetime.now().strftime(\"%Y-%m-%d %H:%M:%S\")\n",
    "        self.proof_of_work = 0\n",
    "        self.prev_hash = prev_hash\n",
    "        self.hash = self.calculate_hash()\n",
    "        \n",
    "    def calculate_hash(self):\n",
    "        \n",
    "        str_to_hash = self.prev_hash + json.dumps(self.data) + self.timestamp + str(self.proof_of_work)\n",
    "        \n",
    "        return sha256(str_to_hash.encode('ascii')).hexdigest()\n",
    "        \n",
    "        \n",
    "    def mine(self, difficulty):\n",
    "        \n",
    "        while not self.hash.startswith('0'*difficulty):\n",
    "            proof_of_work += 1\n",
    "            self.hash = self.calculate_hash()\n",
    "        \n",
    "        "
   ]
  },
  {
   "cell_type": "code",
   "execution_count": 32,
   "id": "b8fc4f5b",
   "metadata": {},
   "outputs": [
    {
     "data": {
      "text/plain": [
       "'3fce385a521cbd1adaf38a4c071770723a529b3ac9084b259bdcdc796fe84805'"
      ]
     },
     "execution_count": 32,
     "metadata": {},
     "output_type": "execute_result"
    }
   ],
   "source": [
    "block1 = Block('0', {'key':'value'})\n",
    "\n",
    "block1.hash"
   ]
  },
  {
   "cell_type": "markdown",
   "id": "ccaca02d",
   "metadata": {},
   "source": [
    "# Blockchain"
   ]
  },
  {
   "cell_type": "code",
   "execution_count": null,
   "id": "9e438644",
   "metadata": {},
   "outputs": [],
   "source": []
  }
 ],
 "metadata": {
  "kernelspec": {
   "display_name": "Python 3 (ipykernel)",
   "language": "python",
   "name": "python3"
  },
  "language_info": {
   "codemirror_mode": {
    "name": "ipython",
    "version": 3
   },
   "file_extension": ".py",
   "mimetype": "text/x-python",
   "name": "python",
   "nbconvert_exporter": "python",
   "pygments_lexer": "ipython3",
   "version": "3.8.6"
  }
 },
 "nbformat": 4,
 "nbformat_minor": 5
}
